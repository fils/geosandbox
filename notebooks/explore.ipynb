{
 "cells": [
  {
   "metadata": {},
   "cell_type": "markdown",
   "source": "# Exploring ",
   "id": "3666fb3a5c4f435e"
  },
  {
   "cell_type": "code",
   "id": "initial_id",
   "metadata": {
    "collapsed": true,
    "ExecuteTime": {
     "end_time": "2024-09-16T16:18:19.071817Z",
     "start_time": "2024-09-16T16:18:19.069298Z"
    }
   },
   "source": [
    "from pyld import jsonld\n",
    "import json\n",
    "import os.path\n",
    "import warnings\n",
    "with warnings.catch_warnings():\n",
    "    warnings.filterwarnings(\"ignore\",category=DeprecationWarning)\n",
    "\n",
    "import json\n",
    "from pyld import jsonld\n",
    "import os, sys\n",
    "import urllib\n",
    "import contextlib\n",
    "\n",
    "devnull = open(os.devnull, 'w')\n",
    "contextlib.redirect_stderr(devnull)\n",
    "\n",
    "currentdir = os.path.dirname(os.path.abspath(''))\n",
    "parentdir = os.path.dirname(currentdir)\n",
    "sys.path.insert(0, parentdir)\n",
    "from lib import jbutils\n",
    "\n",
    "from IPython.display import JSON\n"
   ],
   "outputs": [],
   "execution_count": 24
  },
  {
   "metadata": {
    "ExecuteTime": {
     "end_time": "2024-09-16T16:02:05.655101Z",
     "start_time": "2024-09-16T16:02:05.652602Z"
    }
   },
   "cell_type": "code",
   "source": [
    "def read_json_file(file_path):\n",
    "    try:\n",
    "        with open(file_path, 'r') as file:\n",
    "            json_data = json.load(file)\n",
    "        return json_data\n",
    "    except FileNotFoundError:\n",
    "        print(f\"Error: The file at {file_path} was not found.\")\n",
    "        return None\n",
    "    except json.JSONDecodeError:\n",
    "        print(f\"Error: The file at {file_path} does not contain valid JSON.\")\n",
    "        return None\n",
    "    except Exception as e:\n",
    "        print(f\"An unexpected error occurred: {str(e)}\")\n",
    "        return None"
   ],
   "id": "961f572f44b7758f",
   "outputs": [],
   "execution_count": 10
  },
  {
   "metadata": {
    "ExecuteTime": {
     "end_time": "2024-09-16T16:37:49.275723Z",
     "start_time": "2024-09-16T16:37:49.270117Z"
    }
   },
   "cell_type": "code",
   "source": [
    "dg = read_json_file(\"../datagraphs/starwman_datagraph.json\")\n",
    "fg = read_json_file(\"../frames/strawman_frame.json\")\n",
    "framed = jsonld.frame(dg, fg)\n",
    "# viz"
   ],
   "id": "796c5afa8f67a892",
   "outputs": [],
   "execution_count": 61
  },
  {
   "metadata": {
    "ExecuteTime": {
     "end_time": "2024-09-16T16:39:12.550531Z",
     "start_time": "2024-09-16T16:39:12.548366Z"
    }
   },
   "cell_type": "code",
   "source": [
    "pretty_json = json.dumps(framed, indent=4)\n",
    "print(pretty_json)"
   ],
   "id": "e9339ec396223638",
   "outputs": [
    {
     "name": "stdout",
     "output_type": "stream",
     "text": [
      "{\n",
      "    \"@context\": {\n",
      "        \"@vocab\": \"https://schema.org/\",\n",
      "        \"dateCreated\": \"https://schema.org/date\",\n",
      "        \"geosparql\": \"http://www.opengis.net/ont/geosparql#\"\n",
      "    },\n",
      "    \"@id\": \"https://example.org/genid/data\",\n",
      "    \"@type\": \"Dataset\",\n",
      "    \"geosparql:hasGeometry\": {\n",
      "        \"@id\": \"https://example.org/genid/data/geosparql\",\n",
      "        \"@type\": \"http://www.opengis.net/ont/sf#Point\",\n",
      "        \"geosparql:asWKT\": {\n",
      "            \"@type\": \"geosparql:wktLiteral\",\n",
      "            \"@value\": \"POINT(-76 -18)\"\n",
      "        },\n",
      "        \"geosparql:crs\": {\n",
      "            \"@id\": \"http://www.opengis.net/def/crs/OGC/1.3/CRS84\"\n",
      "        }\n",
      "    },\n",
      "    \"description\": {\n",
      "        \"@language\": \"en\",\n",
      "        \"@value\": \"oih/oih-wis2 dataset hosted on Hugging Face and contributed by the HF Datasets community\"\n",
      "    },\n",
      "    \"geoblob\": {\n",
      "        \"@id\": \"https://example.org/genid/data/geoblob\",\n",
      "        \"geometries\": {\n",
      "            \"@id\": \"https://example.org/genid/data/geoblob/point\",\n",
      "            \"coordinates\": [\n",
      "                -76,\n",
      "                -18\n",
      "            ],\n",
      "            \"type\": {\n",
      "                \"@language\": \"en\",\n",
      "                \"@value\": \"Point\"\n",
      "            }\n",
      "        },\n",
      "        \"type\": {\n",
      "            \"@language\": \"en\",\n",
      "            \"@value\": \"GeometryCollection\"\n",
      "        }\n",
      "    },\n",
      "    \"spatialCoverage\": {\n",
      "        \"@id\": \"https://example.org/genid/data/scov\",\n",
      "        \"@type\": \"Place\",\n",
      "        \"geo\": {\n",
      "            \"@id\": \"https://example.org/genid/data/scov/geo\",\n",
      "            \"@type\": \"GeoCoordinates\",\n",
      "            \"latitude\": -18,\n",
      "            \"longitude\": -76\n",
      "        }\n",
      "    },\n",
      "    \"subjectOf\": {\n",
      "        \"@id\": \"https://example.org/genid/data/subof\",\n",
      "        \"@type\": \"DigitalDocument\",\n",
      "        \"http://mlcommons.org/croissant/format\": {\n",
      "            \"@language\": \"en\",\n",
      "            \"@value\": \"application/vnd.geo+json\"\n",
      "        },\n",
      "        \"http://purl.org/dc/terms/conformsTo\": {\n",
      "            \"@language\": \"en\",\n",
      "            \"@value\": \"https://igsn.org/schema/spatial.schema.json\"\n",
      "        },\n",
      "        \"url\": {\n",
      "            \"@language\": \"en\",\n",
      "            \"@value\": \"https://samples.earth/id/do/bqs2dn2u6s73o70jdup0.geojson\"\n",
      "        }\n",
      "    },\n",
      "    \"url\": {\n",
      "        \"@language\": \"en\",\n",
      "        \"@value\": \"https://huggingface.co/datasets/oih/oih-wis2\"\n",
      "    }\n",
      "}\n"
     ]
    }
   ],
   "execution_count": 65
  },
  {
   "metadata": {
    "ExecuteTime": {
     "end_time": "2024-09-16T16:39:59.380558Z",
     "start_time": "2024-09-16T16:39:59.378341Z"
    }
   },
   "cell_type": "code",
   "source": [
    "# print(framed)\n",
    "display(JSON(framed))\n"
   ],
   "id": "ca4ac2ead89be1a7",
   "outputs": [
    {
     "data": {
      "text/plain": [
       "<IPython.core.display.JSON object>"
      ],
      "application/json": {
       "@context": {
        "@vocab": "https://schema.org/",
        "dateCreated": "https://schema.org/date",
        "geosparql": "http://www.opengis.net/ont/geosparql#"
       },
       "@id": "https://example.org/genid/data",
       "@type": "Dataset",
       "geosparql:hasGeometry": {
        "@id": "https://example.org/genid/data/geosparql",
        "@type": "http://www.opengis.net/ont/sf#Point",
        "geosparql:asWKT": {
         "@type": "geosparql:wktLiteral",
         "@value": "POINT(-76 -18)"
        },
        "geosparql:crs": {
         "@id": "http://www.opengis.net/def/crs/OGC/1.3/CRS84"
        }
       },
       "description": {
        "@language": "en",
        "@value": "oih/oih-wis2 dataset hosted on Hugging Face and contributed by the HF Datasets community"
       },
       "geoblob": {
        "@id": "https://example.org/genid/data/geoblob",
        "geometries": {
         "@id": "https://example.org/genid/data/geoblob/point",
         "coordinates": [
          -76,
          -18
         ],
         "type": {
          "@language": "en",
          "@value": "Point"
         }
        },
        "type": {
         "@language": "en",
         "@value": "GeometryCollection"
        }
       },
       "spatialCoverage": {
        "@id": "https://example.org/genid/data/scov",
        "@type": "Place",
        "geo": {
         "@id": "https://example.org/genid/data/scov/geo",
         "@type": "GeoCoordinates",
         "latitude": -18,
         "longitude": -76
        }
       },
       "subjectOf": {
        "@id": "https://example.org/genid/data/subof",
        "@type": "DigitalDocument",
        "http://mlcommons.org/croissant/format": {
         "@language": "en",
         "@value": "application/vnd.geo+json"
        },
        "http://purl.org/dc/terms/conformsTo": {
         "@language": "en",
         "@value": "https://igsn.org/schema/spatial.schema.json"
        },
        "url": {
         "@language": "en",
         "@value": "https://samples.earth/id/do/bqs2dn2u6s73o70jdup0.geojson"
        }
       },
       "url": {
        "@language": "en",
        "@value": "https://huggingface.co/datasets/oih/oih-wis2"
       }
      }
     },
     "metadata": {
      "application/json": {
       "expanded": false,
       "root": "root"
      }
     },
     "output_type": "display_data"
    }
   ],
   "execution_count": 66
  },
  {
   "metadata": {
    "ExecuteTime": {
     "end_time": "2024-09-16T16:40:00.097694Z",
     "start_time": "2024-09-16T16:40:00.071200Z"
    }
   },
   "cell_type": "code",
   "source": "jbutils.show_graph(framed)\n",
   "id": "d32c558618270e3a",
   "outputs": [
    {
     "data": {
      "image/svg+xml": "<?xml version=\"1.0\" encoding=\"UTF-8\" standalone=\"no\"?>\n<!DOCTYPE svg PUBLIC \"-//W3C//DTD SVG 1.1//EN\"\n \"http://www.w3.org/Graphics/SVG/1.1/DTD/svg11.dtd\">\n<!-- Generated by graphviz version 9.0.0 (20230911.1827)\n -->\n<!-- Pages: 1 -->\n<svg width=\"1791pt\" height=\"637pt\"\n viewBox=\"0.00 0.00 1790.87 636.93\" xmlns=\"http://www.w3.org/2000/svg\" xmlns:xlink=\"http://www.w3.org/1999/xlink\">\n<g id=\"graph0\" class=\"graph\" transform=\"scale(1 1) rotate(0) translate(4 632.93)\">\n<polygon fill=\"white\" stroke=\"none\" points=\"-4,4 -4,-632.93 1786.87,-632.93 1786.87,4 -4,4\"/>\n<!-- &quot;&#45;18&quot; -->\n<g id=\"node1\" class=\"node\">\n<title>&quot;&#45;18&quot;</title>\n<ellipse fill=\"none\" stroke=\"black\" stroke-width=\"0\" cx=\"1691.67\" cy=\"-546.93\" rx=\"36.48\" ry=\"18\"/>\n<text text-anchor=\"middle\" x=\"1691.67\" y=\"-542.25\" font-family=\"Times,serif\" font-size=\"14.00\">&quot;&#45;18&quot;</text>\n</g>\n<!-- example.org/genid/data/geoblob/point -->\n<g id=\"node2\" class=\"node\">\n<title>example.org/genid/data/geoblob/point</title>\n<ellipse fill=\"none\" stroke=\"#558855\" cx=\"1264.3\" cy=\"-553.93\" rx=\"201.15\" ry=\"18\"/>\n<text text-anchor=\"middle\" x=\"1264.3\" y=\"-549.25\" font-family=\"Times,serif\" font-size=\"14.00\">example.org/genid/data/geoblob/point</text>\n</g>\n<!-- example.org/genid/data/geoblob/point&#45;&gt;&quot;&#45;18&quot; -->\n<g id=\"edge1\" class=\"edge\">\n<title>example.org/genid/data/geoblob/point&#45;&gt;&quot;&#45;18&quot;</title>\n<path fill=\"none\" stroke=\"black\" d=\"M1462.84,-550.9C1502.46,-550.27 1543.8,-549.59 1582.48,-548.93 1602.7,-548.58 1625.05,-548.17 1644.16,-547.82\"/>\n<polygon fill=\"black\" stroke=\"black\" points=\"1644.15,-551.32 1654.08,-547.63 1644.01,-544.32 1644.15,-551.32\"/>\n<text text-anchor=\"middle\" x=\"1540.86\" y=\"-553.88\" font-family=\"Times,serif\" font-size=\"14.00\">coordinates</text>\n</g>\n<!-- &quot;&#45;76&quot; -->\n<g id=\"node3\" class=\"node\">\n<title>&quot;&#45;76&quot;</title>\n<ellipse fill=\"none\" stroke=\"black\" stroke-width=\"0\" cx=\"1691.67\" cy=\"-473.93\" rx=\"36.48\" ry=\"18\"/>\n<text text-anchor=\"middle\" x=\"1691.67\" y=\"-469.25\" font-family=\"Times,serif\" font-size=\"14.00\">&quot;&#45;76&quot;</text>\n</g>\n<!-- example.org/genid/data/geoblob/point&#45;&gt;&quot;&#45;76&quot; -->\n<g id=\"edge2\" class=\"edge\">\n<title>example.org/genid/data/geoblob/point&#45;&gt;&quot;&#45;76&quot;</title>\n<path fill=\"none\" stroke=\"black\" d=\"M1398.57,-540.19C1455.62,-532.98 1522.73,-522.72 1582.48,-508.93 1605.85,-503.53 1631.41,-495.38 1651.81,-488.29\"/>\n<polygon fill=\"black\" stroke=\"black\" points=\"1652.88,-491.63 1661.15,-485 1650.55,-485.03 1652.88,-491.63\"/>\n<text text-anchor=\"middle\" x=\"1540.86\" y=\"-527.88\" font-family=\"Times,serif\" font-size=\"14.00\">coordinates</text>\n</g>\n<!-- &quot;Point&quot; -->\n<g id=\"node4\" class=\"node\">\n<title>&quot;Point&quot;</title>\n<ellipse fill=\"none\" stroke=\"black\" stroke-width=\"0\" cx=\"1691.67\" cy=\"-610.93\" rx=\"46.47\" ry=\"18\"/>\n<text text-anchor=\"middle\" x=\"1691.67\" y=\"-606.25\" font-family=\"Times,serif\" font-size=\"14.00\">&quot;Point&quot;</text>\n</g>\n<!-- example.org/genid/data/geoblob/point&#45;&gt;&quot;Point&quot; -->\n<g id=\"edge3\" class=\"edge\">\n<title>example.org/genid/data/geoblob/point&#45;&gt;&quot;Point&quot;</title>\n<path fill=\"none\" stroke=\"black\" d=\"M1386.12,-568.65C1417.13,-572.53 1450.43,-576.8 1481.23,-580.93 1534.26,-588.04 1594.74,-596.77 1637.03,-602.98\"/>\n<polygon fill=\"black\" stroke=\"black\" points=\"1636.28,-606.4 1646.69,-604.4 1637.3,-599.48 1636.28,-606.4\"/>\n<text text-anchor=\"middle\" x=\"1540.86\" y=\"-597.88\" font-family=\"Times,serif\" font-size=\"14.00\">type</text>\n</g>\n<!-- example.org/genid/data/geoblob -->\n<g id=\"node5\" class=\"node\">\n<title>example.org/genid/data/geoblob</title>\n<ellipse fill=\"none\" stroke=\"#558855\" cx=\"592.91\" cy=\"-553.93\" rx=\"172.21\" ry=\"18\"/>\n<text text-anchor=\"middle\" x=\"592.91\" y=\"-549.25\" font-family=\"Times,serif\" font-size=\"14.00\">example.org/genid/data/geoblob</text>\n</g>\n<!-- example.org/genid/data/geoblob&#45;&gt;example.org/genid/data/geoblob/point -->\n<g id=\"edge4\" class=\"edge\">\n<title>example.org/genid/data/geoblob&#45;&gt;example.org/genid/data/geoblob/point</title>\n<path fill=\"none\" stroke=\"black\" d=\"M765.42,-553.93C852.53,-553.93 959.16,-553.93 1051.36,-553.93\"/>\n<polygon fill=\"black\" stroke=\"black\" points=\"1051.31,-557.43 1061.31,-553.93 1051.31,-550.43 1051.31,-557.43\"/>\n<text text-anchor=\"middle\" x=\"911.24\" y=\"-557.88\" font-family=\"Times,serif\" font-size=\"14.00\">geometries</text>\n</g>\n<!-- &quot;GeometryCollection&quot; -->\n<g id=\"node6\" class=\"node\">\n<title>&quot;GeometryCollection&quot;</title>\n<ellipse fill=\"none\" stroke=\"black\" stroke-width=\"0\" cx=\"1264.3\" cy=\"-607.93\" rx=\"120.13\" ry=\"18\"/>\n<text text-anchor=\"middle\" x=\"1264.3\" y=\"-603.25\" font-family=\"Times,serif\" font-size=\"14.00\">&quot;GeometryCollection&quot;</text>\n</g>\n<!-- example.org/genid/data/geoblob&#45;&gt;&quot;GeometryCollection&quot; -->\n<g id=\"edge5\" class=\"edge\">\n<title>example.org/genid/data/geoblob&#45;&gt;&quot;GeometryCollection&quot;</title>\n<path fill=\"none\" stroke=\"black\" d=\"M713.14,-567.19C739.46,-569.92 767.22,-572.66 793.12,-574.93 911.4,-585.31 1046.65,-594.53 1141.63,-600.56\"/>\n<polygon fill=\"black\" stroke=\"black\" points=\"1141.3,-604.05 1151.5,-601.19 1141.74,-597.06 1141.3,-604.05\"/>\n<text text-anchor=\"middle\" x=\"911.24\" y=\"-595.88\" font-family=\"Times,serif\" font-size=\"14.00\">type</text>\n</g>\n<!-- &quot;POINT(&#45;76 &#45;18)&quot; -->\n<g id=\"node7\" class=\"node\">\n<title>&quot;POINT(&#45;76 &#45;18)&quot;</title>\n<ellipse fill=\"none\" stroke=\"black\" stroke-width=\"0\" cx=\"1264.3\" cy=\"-375.93\" rx=\"95.93\" ry=\"18\"/>\n<text text-anchor=\"middle\" x=\"1264.3\" y=\"-371.25\" font-family=\"Times,serif\" font-size=\"14.00\">&quot;POINT(&#45;76 &#45;18)&quot;</text>\n</g>\n<!-- example.org/genid/data/geosparql -->\n<g id=\"node8\" class=\"node\">\n<title>example.org/genid/data/geosparql</title>\n<ellipse fill=\"none\" stroke=\"#558855\" cx=\"592.91\" cy=\"-304.93\" rx=\"182.21\" ry=\"18\"/>\n<text text-anchor=\"middle\" x=\"592.91\" y=\"-300.25\" font-family=\"Times,serif\" font-size=\"14.00\">example.org/genid/data/geosparql</text>\n</g>\n<!-- example.org/genid/data/geosparql&#45;&gt;&quot;POINT(&#45;76 &#45;18)&quot; -->\n<g id=\"edge6\" class=\"edge\">\n<title>example.org/genid/data/geosparql&#45;&gt;&quot;POINT(&#45;76 &#45;18)&quot;</title>\n<path fill=\"none\" stroke=\"black\" d=\"M683.94,-320.89C718.06,-326.54 757.3,-332.57 793.12,-336.93 919.69,-352.32 1066.19,-363.42 1161.58,-369.75\"/>\n<polygon fill=\"black\" stroke=\"black\" points=\"1161.23,-373.23 1171.44,-370.4 1161.69,-366.25 1161.23,-373.23\"/>\n<text text-anchor=\"middle\" x=\"911.24\" y=\"-362.88\" font-family=\"Times,serif\" font-size=\"14.00\">asWKT</text>\n</g>\n<!-- www.opengis.net/def/crs/OGC/1.3/CRS84 -->\n<g id=\"node9\" class=\"node\">\n<title>www.opengis.net/def/crs/OGC/1.3/CRS84</title>\n<ellipse fill=\"none\" stroke=\"#558855\" cx=\"1264.3\" cy=\"-321.93\" rx=\"216.93\" ry=\"18\"/>\n<text text-anchor=\"middle\" x=\"1264.3\" y=\"-317.25\" font-family=\"Times,serif\" font-size=\"14.00\">www.opengis.net/def/crs/OGC/1.3/CRS84</text>\n</g>\n<!-- example.org/genid/data/geosparql&#45;&gt;www.opengis.net/def/crs/OGC/1.3/CRS84 -->\n<g id=\"edge7\" class=\"edge\">\n<title>example.org/genid/data/geosparql&#45;&gt;www.opengis.net/def/crs/OGC/1.3/CRS84</title>\n<path fill=\"none\" stroke=\"black\" d=\"M769.78,-309.4C853.92,-311.53 955.49,-314.11 1044.56,-316.37\"/>\n<polygon fill=\"black\" stroke=\"black\" points=\"1044.32,-319.87 1054.41,-316.62 1044.5,-312.87 1044.32,-319.87\"/>\n<text text-anchor=\"middle\" x=\"911.24\" y=\"-319.88\" font-family=\"Times,serif\" font-size=\"14.00\">crs</text>\n</g>\n<!-- Point -->\n<g id=\"node10\" class=\"node\">\n<title>Point</title>\n<ellipse fill=\"none\" stroke=\"#558855\" cx=\"1264.3\" cy=\"-267.93\" rx=\"37\" ry=\"18\"/>\n<text text-anchor=\"middle\" x=\"1264.3\" y=\"-263.25\" font-family=\"Times,serif\" font-size=\"14.00\">Point</text>\n</g>\n<!-- example.org/genid/data/geosparql&#45;&gt;Point -->\n<g id=\"edge8\" class=\"edge\">\n<title>example.org/genid/data/geosparql&#45;&gt;Point</title>\n<path fill=\"none\" stroke=\"black\" d=\"M732.1,-292.99C752.55,-291.41 773.38,-289.92 793.12,-288.68 947.52,-278.98 1130.73,-272.28 1215.67,-269.44\"/>\n<polygon fill=\"black\" stroke=\"black\" points=\"1215.6,-272.95 1225.48,-269.12 1215.37,-265.95 1215.6,-272.95\"/>\n<text text-anchor=\"middle\" x=\"911.24\" y=\"-291.88\" font-family=\"Times,serif\" font-size=\"14.00\">type</text>\n</g>\n<!-- GeoCoordinates -->\n<g id=\"node11\" class=\"node\">\n<title>GeoCoordinates</title>\n<ellipse fill=\"none\" stroke=\"#558855\" cx=\"1691.67\" cy=\"-410.93\" rx=\"91.19\" ry=\"18\"/>\n<text text-anchor=\"middle\" x=\"1691.67\" y=\"-406.25\" font-family=\"Times,serif\" font-size=\"14.00\">GeoCoordinates</text>\n</g>\n<!-- example.org/genid/data/scov/geo -->\n<g id=\"node12\" class=\"node\">\n<title>example.org/genid/data/scov/geo</title>\n<ellipse fill=\"none\" stroke=\"#558855\" cx=\"1264.3\" cy=\"-483.93\" rx=\"175.9\" ry=\"18\"/>\n<text text-anchor=\"middle\" x=\"1264.3\" y=\"-479.25\" font-family=\"Times,serif\" font-size=\"14.00\">example.org/genid/data/scov/geo</text>\n</g>\n<!-- example.org/genid/data/scov/geo&#45;&gt;&quot;&#45;18&quot; -->\n<g id=\"edge10\" class=\"edge\">\n<title>example.org/genid/data/scov/geo&#45;&gt;&quot;&#45;18&quot;</title>\n<path fill=\"none\" stroke=\"black\" d=\"M1412.44,-473.9C1466.62,-473.75 1528.04,-477.8 1582.48,-491.68 1591.2,-493.9 1592.47,-496.83 1600.48,-500.93 1618.75,-510.28 1639.12,-520.67 1655.87,-529.21\"/>\n<polygon fill=\"black\" stroke=\"black\" points=\"1653.93,-532.15 1664.43,-533.57 1657.11,-525.91 1653.93,-532.15\"/>\n<text text-anchor=\"middle\" x=\"1540.86\" y=\"-494.88\" font-family=\"Times,serif\" font-size=\"14.00\">latitude</text>\n</g>\n<!-- example.org/genid/data/scov/geo&#45;&gt;&quot;&#45;76&quot; -->\n<g id=\"edge11\" class=\"edge\">\n<title>example.org/genid/data/scov/geo&#45;&gt;&quot;&#45;76&quot;</title>\n<path fill=\"none\" stroke=\"black\" d=\"M1393.16,-471.36C1422.26,-467.56 1452.93,-462.79 1481.23,-456.93 1489.39,-455.24 1490.98,-452.86 1499.23,-451.68 1535.86,-446.45 1545.67,-447.93 1582.48,-451.68 1604.49,-453.92 1628.63,-458.66 1648.52,-463.19\"/>\n<polygon fill=\"black\" stroke=\"black\" points=\"1647.68,-466.59 1658.21,-465.47 1649.28,-459.77 1647.68,-466.59\"/>\n<text text-anchor=\"middle\" x=\"1540.86\" y=\"-454.88\" font-family=\"Times,serif\" font-size=\"14.00\">longitude</text>\n</g>\n<!-- example.org/genid/data/scov/geo&#45;&gt;GeoCoordinates -->\n<g id=\"edge9\" class=\"edge\">\n<title>example.org/genid/data/scov/geo&#45;&gt;GeoCoordinates</title>\n<path fill=\"none\" stroke=\"black\" d=\"M1432.91,-478.6C1450.04,-473.56 1466.53,-466.55 1481.23,-456.93 1494.32,-448.37 1485.96,-434.96 1499.23,-426.68 1529.22,-407.96 1567.21,-402.04 1601.42,-401.53\"/>\n<polygon fill=\"black\" stroke=\"black\" points=\"1601.34,-405.03 1611.34,-401.56 1601.35,-398.03 1601.34,-405.03\"/>\n<text text-anchor=\"middle\" x=\"1540.86\" y=\"-429.88\" font-family=\"Times,serif\" font-size=\"14.00\">type</text>\n</g>\n<!-- Place -->\n<g id=\"node13\" class=\"node\">\n<title>Place</title>\n<ellipse fill=\"none\" stroke=\"#558855\" cx=\"1264.3\" cy=\"-429.93\" rx=\"38.06\" ry=\"18\"/>\n<text text-anchor=\"middle\" x=\"1264.3\" y=\"-425.25\" font-family=\"Times,serif\" font-size=\"14.00\">Place</text>\n</g>\n<!-- example.org/genid/data/scov -->\n<g id=\"node14\" class=\"node\">\n<title>example.org/genid/data/scov</title>\n<ellipse fill=\"none\" stroke=\"#558855\" cx=\"592.91\" cy=\"-429.93\" rx=\"154.85\" ry=\"18\"/>\n<text text-anchor=\"middle\" x=\"592.91\" y=\"-425.25\" font-family=\"Times,serif\" font-size=\"14.00\">example.org/genid/data/scov</text>\n</g>\n<!-- example.org/genid/data/scov&#45;&gt;example.org/genid/data/scov/geo -->\n<g id=\"edge13\" class=\"edge\">\n<title>example.org/genid/data/scov&#45;&gt;example.org/genid/data/scov/geo</title>\n<path fill=\"none\" stroke=\"black\" d=\"M706.57,-442.5C734.81,-445.46 765.05,-448.47 793.12,-450.93 895.13,-459.88 1009.77,-467.97 1100.31,-473.9\"/>\n<polygon fill=\"black\" stroke=\"black\" points=\"1100.07,-477.39 1110.28,-474.55 1100.53,-470.4 1100.07,-477.39\"/>\n<text text-anchor=\"middle\" x=\"911.24\" y=\"-471.88\" font-family=\"Times,serif\" font-size=\"14.00\">geo</text>\n</g>\n<!-- example.org/genid/data/scov&#45;&gt;Place -->\n<g id=\"edge12\" class=\"edge\">\n<title>example.org/genid/data/scov&#45;&gt;Place</title>\n<path fill=\"none\" stroke=\"black\" d=\"M747.9,-429.93C898.17,-429.93 1117.86,-429.93 1214.55,-429.93\"/>\n<polygon fill=\"black\" stroke=\"black\" points=\"1214.48,-433.43 1224.48,-429.93 1214.48,-426.43 1214.48,-433.43\"/>\n<text text-anchor=\"middle\" x=\"911.24\" y=\"-433.88\" font-family=\"Times,serif\" font-size=\"14.00\">type</text>\n</g>\n<!-- &quot;application/vnd.geo+...&quot; -->\n<g id=\"node15\" class=\"node\">\n<title>&quot;application/vnd.geo+...&quot;</title>\n<ellipse fill=\"none\" stroke=\"black\" stroke-width=\"0\" cx=\"1264.3\" cy=\"-159.93\" rx=\"136.44\" ry=\"18\"/>\n<text text-anchor=\"middle\" x=\"1264.3\" y=\"-155.25\" font-family=\"Times,serif\" font-size=\"14.00\">&quot;application/vnd.geo+...&quot;</text>\n</g>\n<!-- example.org/genid/data/subof -->\n<g id=\"node16\" class=\"node\">\n<title>example.org/genid/data/subof</title>\n<ellipse fill=\"none\" stroke=\"#558855\" cx=\"592.91\" cy=\"-213.93\" rx=\"160.11\" ry=\"18\"/>\n<text text-anchor=\"middle\" x=\"592.91\" y=\"-209.25\" font-family=\"Times,serif\" font-size=\"14.00\">example.org/genid/data/subof</text>\n</g>\n<!-- example.org/genid/data/subof&#45;&gt;&quot;application/vnd.geo+...&quot; -->\n<g id=\"edge14\" class=\"edge\">\n<title>example.org/genid/data/subof&#45;&gt;&quot;application/vnd.geo+...&quot;</title>\n<path fill=\"none\" stroke=\"black\" d=\"M707.87,-201.04C735.74,-198.09 765.48,-195.11 793.12,-192.68 906.1,-182.72 1034.58,-173.95 1128.65,-167.99\"/>\n<polygon fill=\"black\" stroke=\"black\" points=\"1128.68,-171.5 1138.44,-167.37 1128.24,-164.51 1128.68,-171.5\"/>\n<text text-anchor=\"middle\" x=\"911.24\" y=\"-195.88\" font-family=\"Times,serif\" font-size=\"14.00\">mlcommons.org/croissant/format</text>\n</g>\n<!-- &quot;https//igsn.org/sche...&quot; -->\n<g id=\"node17\" class=\"node\">\n<title>&quot;https//igsn.org/sche...&quot;</title>\n<ellipse fill=\"none\" stroke=\"black\" stroke-width=\"0\" cx=\"1264.3\" cy=\"-105.93\" rx=\"129.6\" ry=\"18\"/>\n<text text-anchor=\"middle\" x=\"1264.3\" y=\"-101.25\" font-family=\"Times,serif\" font-size=\"14.00\">&quot;https//igsn.org/sche...&quot;</text>\n</g>\n<!-- example.org/genid/data/subof&#45;&gt;&quot;https//igsn.org/sche...&quot; -->\n<g id=\"edge15\" class=\"edge\">\n<title>example.org/genid/data/subof&#45;&gt;&quot;https//igsn.org/sche...&quot;</title>\n<path fill=\"none\" stroke=\"black\" d=\"M736.96,-205.87C750.57,-201.28 763.57,-195.12 775.12,-186.93 789.14,-176.97 778.86,-162.29 793.12,-152.68 905.56,-76.9 1068.84,-79.49 1170.41,-90.84\"/>\n<polygon fill=\"black\" stroke=\"black\" points=\"1169.72,-94.28 1180.06,-91.97 1170.54,-87.33 1169.72,-94.28\"/>\n<text text-anchor=\"middle\" x=\"911.24\" y=\"-156.88\" font-family=\"Times,serif\" font-size=\"14.00\">purl.org/dc/terms/conformsTo</text>\n</g>\n<!-- DigitalDocument -->\n<g id=\"node18\" class=\"node\">\n<title>DigitalDocument</title>\n<ellipse fill=\"none\" stroke=\"#558855\" cx=\"1264.3\" cy=\"-51.93\" rx=\"95.93\" ry=\"18\"/>\n<text text-anchor=\"middle\" x=\"1264.3\" y=\"-47.25\" font-family=\"Times,serif\" font-size=\"14.00\">DigitalDocument</text>\n</g>\n<!-- example.org/genid/data/subof&#45;&gt;DigitalDocument -->\n<g id=\"edge16\" class=\"edge\">\n<title>example.org/genid/data/subof&#45;&gt;DigitalDocument</title>\n<path fill=\"none\" stroke=\"black\" d=\"M744.02,-207.92C755.51,-202.77 766.12,-195.93 775.12,-186.93 813.63,-148.4 752.39,-101.86 793.12,-65.68 907.9,36.29 1107.67,-4.1 1205.7,-32.74\"/>\n<polygon fill=\"black\" stroke=\"black\" points=\"1204.54,-36.05 1215.12,-35.56 1206.54,-29.34 1204.54,-36.05\"/>\n<text text-anchor=\"middle\" x=\"911.24\" y=\"-69.88\" font-family=\"Times,serif\" font-size=\"14.00\">type</text>\n</g>\n<!-- &quot;https//samples.earth...&quot; -->\n<g id=\"node19\" class=\"node\">\n<title>&quot;https//samples.earth...&quot;</title>\n<ellipse fill=\"none\" stroke=\"black\" stroke-width=\"0\" cx=\"1264.3\" cy=\"-213.93\" rx=\"133.81\" ry=\"18\"/>\n<text text-anchor=\"middle\" x=\"1264.3\" y=\"-209.25\" font-family=\"Times,serif\" font-size=\"14.00\">&quot;https//samples.earth...&quot;</text>\n</g>\n<!-- example.org/genid/data/subof&#45;&gt;&quot;https//samples.earth...&quot; -->\n<g id=\"edge17\" class=\"edge\">\n<title>example.org/genid/data/subof&#45;&gt;&quot;https//samples.earth...&quot;</title>\n<path fill=\"none\" stroke=\"black\" d=\"M753.39,-213.93C864.6,-213.93 1011.74,-213.93 1119.37,-213.93\"/>\n<polygon fill=\"black\" stroke=\"black\" points=\"1119.13,-217.43 1129.13,-213.93 1119.13,-210.43 1119.13,-217.43\"/>\n<text text-anchor=\"middle\" x=\"911.24\" y=\"-217.88\" font-family=\"Times,serif\" font-size=\"14.00\">url</text>\n</g>\n<!-- example.org/genid/data -->\n<g id=\"node20\" class=\"node\">\n<title>example.org/genid/data</title>\n<ellipse fill=\"none\" stroke=\"black\" cx=\"129.6\" cy=\"-213.93\" rx=\"129.6\" ry=\"18\"/>\n<text text-anchor=\"middle\" x=\"129.6\" y=\"-209.25\" font-family=\"Times,serif\" font-size=\"14.00\">example.org/genid/data</text>\n</g>\n<!-- example.org/genid/data&#45;&gt;example.org/genid/data/geoblob -->\n<g id=\"edge21\" class=\"edge\">\n<title>example.org/genid/data&#45;&gt;example.org/genid/data/geoblob</title>\n<path fill=\"none\" stroke=\"black\" d=\"M147.46,-232.03C173.98,-260.15 227.57,-315.51 277.2,-357.93 333.35,-405.93 348.3,-417.39 410.7,-456.93 454.64,-484.77 507.31,-512.36 544.5,-530.96\"/>\n<polygon fill=\"black\" stroke=\"black\" points=\"542.7,-533.97 553.21,-535.28 545.81,-527.7 542.7,-533.97\"/>\n<text text-anchor=\"middle\" x=\"334.95\" y=\"-446.88\" font-family=\"Times,serif\" font-size=\"14.00\">geoblob</text>\n</g>\n<!-- example.org/genid/data&#45;&gt;example.org/genid/data/geosparql -->\n<g id=\"edge18\" class=\"edge\">\n<title>example.org/genid/data&#45;&gt;example.org/genid/data/geosparql</title>\n<path fill=\"none\" stroke=\"black\" d=\"M206.26,-228.85C285.96,-244.58 411.63,-269.37 497.71,-286.35\"/>\n<polygon fill=\"black\" stroke=\"black\" points=\"496.82,-289.74 507.31,-288.24 498.18,-282.87 496.82,-289.74\"/>\n<text text-anchor=\"middle\" x=\"334.95\" y=\"-267.88\" font-family=\"Times,serif\" font-size=\"14.00\">hasGeometry</text>\n</g>\n<!-- example.org/genid/data&#45;&gt;example.org/genid/data/scov -->\n<g id=\"edge22\" class=\"edge\">\n<title>example.org/genid/data&#45;&gt;example.org/genid/data/scov</title>\n<path fill=\"none\" stroke=\"black\" d=\"M166.65,-231.63C196.27,-246.11 239.36,-267.05 277.2,-284.93 370.52,-329.02 480.11,-379.14 542.25,-407.41\"/>\n<polygon fill=\"black\" stroke=\"black\" points=\"540.61,-410.51 551.16,-411.46 543.51,-404.14 540.61,-410.51\"/>\n<text text-anchor=\"middle\" x=\"334.95\" y=\"-340.88\" font-family=\"Times,serif\" font-size=\"14.00\">spatialCoverage</text>\n</g>\n<!-- example.org/genid/data&#45;&gt;example.org/genid/data/subof -->\n<g id=\"edge23\" class=\"edge\">\n<title>example.org/genid/data&#45;&gt;example.org/genid/data/subof</title>\n<path fill=\"none\" stroke=\"black\" d=\"M259.4,-213.93C309.55,-213.93 367.74,-213.93 421.28,-213.93\"/>\n<polygon fill=\"black\" stroke=\"black\" points=\"421.12,-217.43 431.12,-213.93 421.12,-210.43 421.12,-217.43\"/>\n<text text-anchor=\"middle\" x=\"334.95\" y=\"-217.88\" font-family=\"Times,serif\" font-size=\"14.00\">subjectOf</text>\n</g>\n<!-- Dataset -->\n<g id=\"node21\" class=\"node\">\n<title>Dataset</title>\n<ellipse fill=\"none\" stroke=\"#558855\" cx=\"592.91\" cy=\"-159.93\" rx=\"50.16\" ry=\"18\"/>\n<text text-anchor=\"middle\" x=\"592.91\" y=\"-155.25\" font-family=\"Times,serif\" font-size=\"14.00\">Dataset</text>\n</g>\n<!-- example.org/genid/data&#45;&gt;Dataset -->\n<g id=\"edge19\" class=\"edge\">\n<title>example.org/genid/data&#45;&gt;Dataset</title>\n<path fill=\"none\" stroke=\"black\" d=\"M218.9,-200.54C238.1,-197.8 258.31,-195.03 277.2,-192.68 365.98,-181.63 469.17,-171.38 532.5,-165.39\"/>\n<polygon fill=\"black\" stroke=\"black\" points=\"532.72,-168.89 542.35,-164.47 532.06,-161.92 532.72,-168.89\"/>\n<text text-anchor=\"middle\" x=\"334.95\" y=\"-195.88\" font-family=\"Times,serif\" font-size=\"14.00\">type</text>\n</g>\n<!-- &quot;oih/oih&#45;wis2 dataset...&quot; -->\n<g id=\"node22\" class=\"node\">\n<title>&quot;oih/oih&#45;wis2 dataset...&quot;</title>\n<ellipse fill=\"none\" stroke=\"black\" stroke-width=\"0\" cx=\"592.91\" cy=\"-105.93\" rx=\"130.65\" ry=\"18\"/>\n<text text-anchor=\"middle\" x=\"592.91\" y=\"-101.25\" font-family=\"Times,serif\" font-size=\"14.00\">&quot;oih/oih&#45;wis2 dataset...&quot;</text>\n</g>\n<!-- example.org/genid/data&#45;&gt;&quot;oih/oih&#45;wis2 dataset...&quot; -->\n<g id=\"edge20\" class=\"edge\">\n<title>example.org/genid/data&#45;&gt;&quot;oih/oih&#45;wis2 dataset...&quot;</title>\n<path fill=\"none\" stroke=\"black\" d=\"M170.37,-196.39C199.49,-184.12 240.2,-168.11 277.2,-157.68 342.79,-139.18 418.07,-126.51 478.55,-118.33\"/>\n<polygon fill=\"black\" stroke=\"black\" points=\"478.71,-121.84 488.16,-117.06 477.79,-114.9 478.71,-121.84\"/>\n<text text-anchor=\"middle\" x=\"334.95\" y=\"-161.88\" font-family=\"Times,serif\" font-size=\"14.00\">description</text>\n</g>\n<!-- &quot;https//huggingface.c...&quot; -->\n<g id=\"node23\" class=\"node\">\n<title>&quot;https//huggingface.c...&quot;</title>\n<ellipse fill=\"none\" stroke=\"black\" stroke-width=\"0\" cx=\"592.91\" cy=\"-51.93\" rx=\"132.76\" ry=\"18\"/>\n<text text-anchor=\"middle\" x=\"592.91\" y=\"-47.25\" font-family=\"Times,serif\" font-size=\"14.00\">&quot;https//huggingface.c...&quot;</text>\n</g>\n<!-- example.org/genid/data&#45;&gt;&quot;https//huggingface.c...&quot; -->\n<g id=\"edge24\" class=\"edge\">\n<title>example.org/genid/data&#45;&gt;&quot;https//huggingface.c...&quot;</title>\n<path fill=\"none\" stroke=\"black\" d=\"M150.94,-196.03C177.96,-173.17 228,-133.93 277.2,-111.68 336.1,-85.03 406.41,-70.27 465.62,-62.08\"/>\n<polygon fill=\"black\" stroke=\"black\" points=\"465.97,-65.57 475.42,-60.78 465.05,-58.63 465.97,-65.57\"/>\n<text text-anchor=\"middle\" x=\"334.95\" y=\"-115.88\" font-family=\"Times,serif\" font-size=\"14.00\">url</text>\n</g>\n</g>\n</svg>\n",
      "text/plain": [
       "<graphviz.graphs.Digraph at 0x7f82c39c5660>"
      ]
     },
     "execution_count": 67,
     "metadata": {},
     "output_type": "execute_result"
    }
   ],
   "execution_count": 67
  },
  {
   "metadata": {},
   "cell_type": "code",
   "outputs": [],
   "execution_count": null,
   "source": "",
   "id": "afb0e37454e835be"
  }
 ],
 "metadata": {
  "kernelspec": {
   "display_name": "Python 3",
   "language": "python",
   "name": "python3"
  },
  "language_info": {
   "codemirror_mode": {
    "name": "ipython",
    "version": 2
   },
   "file_extension": ".py",
   "mimetype": "text/x-python",
   "name": "python",
   "nbconvert_exporter": "python",
   "pygments_lexer": "ipython2",
   "version": "2.7.6"
  }
 },
 "nbformat": 4,
 "nbformat_minor": 5
}
