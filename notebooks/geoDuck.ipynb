{
 "cells": [
  {
   "metadata": {},
   "cell_type": "markdown",
   "source": [
    "# Spatial Duck\n",
    "\n",
    "```python\n",
    "install spatial;\n",
    "load spatial;\n",
    "select * from 'https://whatever/shapefile/on/the/internet.geojson';\n",
    "\n",
    "```\n",
    "\n",
    "\n",
    "References\n",
    "* [DuckDB: The indispensable geospatial tool you didn’t know you were missing](https://medium.com/radiant-earth-insights/duckdb-the-indispensable-geospatial-tool-you-didnt-know-you-were-missing-5fe11c5633e5)\n",
    "* https://duckdb.org/2023/04/28/spatial.html\n",
    "* https://developmentseed.org/lonboard/latest/ecosystem/duckdb/\n",
    "* https://github.com/duckdb/duckdb_spatial/blob/main/docs/example.md\n",
    "\n",
    "\n",
    "\n",
    "Need to try\n",
    "\n",
    "```sql\n",
    "SELECT DISTINCT ST_GeometryType(ST_GeomFromWKB(geometry)) AS geom_type FROM 'PathTo\\\\*.parquet' LIMIT 5;\n",
    "```\n",
    "\n",
    "from https://stackoverflow.com/questions/77605626/duckdb-st-geometrytypeblob-add-explicit-type-casts"
   ],
   "id": "7e9f69be222dc185"
  },
  {
   "metadata": {
    "ExecuteTime": {
     "end_time": "2024-09-16T15:49:37.024016Z",
     "start_time": "2024-09-16T15:49:37.022161Z"
    }
   },
   "cell_type": "code",
   "source": "import duckdb",
   "id": "c68e02cfd9ee663e",
   "outputs": [],
   "execution_count": 3
  },
  {
   "metadata": {
    "ExecuteTime": {
     "end_time": "2024-09-16T15:49:40.130433Z",
     "start_time": "2024-09-16T15:49:38.422733Z"
    }
   },
   "cell_type": "code",
   "source": [
    "duckdb.install_extension(\"spatial\")\n",
    "duckdb.install_extension(\"httpfs\")\n",
    "\n",
    "geocon = duckdb.connect()\n",
    "geocon.execute(\"INSTALL spatial;\")\n",
    "geocon.execute(\"LOAD spatial;\")\n",
    "geocon.execute(\"INSTALL httpfs;\")\n",
    "geocon.execute(\"LOAD httpfs;\")"
   ],
   "id": "bd26f01a51df4008",
   "outputs": [
    {
     "data": {
      "text/plain": [
       "<duckdb.duckdb.DuckDBPyConnection at 0x7fcce434a030>"
      ]
     },
     "execution_count": 4,
     "metadata": {},
     "output_type": "execute_result"
    }
   ],
   "execution_count": 4
  },
  {
   "metadata": {
    "ExecuteTime": {
     "end_time": "2024-09-16T15:49:41.158890Z",
     "start_time": "2024-09-16T15:49:41.157063Z"
    }
   },
   "cell_type": "code",
   "source": [
    "jsonurl = \"https://raw.githubusercontent.com/PublicaMundi/MappingAPI/master/data/geojson/us-states.json\"\n",
    "shpurl = \"https://github.com/nvkelso/natural-earth-vector/raw/master/110m_physical/ne_110m_land.shp\""
   ],
   "id": "dc0d3e99ae2f4aa2",
   "outputs": [],
   "execution_count": 5
  },
  {
   "metadata": {
    "ExecuteTime": {
     "end_time": "2024-09-16T15:50:34.431811Z",
     "start_time": "2024-09-16T15:50:34.426879Z"
    }
   },
   "cell_type": "code",
   "source": "geocon.execute(\"CREATE TABLE geojson_data (geometry GEOMETRY,properties JSON);\")",
   "id": "3128adf76342d8f2",
   "outputs": [
    {
     "data": {
      "text/plain": [
       "<duckdb.duckdb.DuckDBPyConnection at 0x7fcce434a030>"
      ]
     },
     "execution_count": 7,
     "metadata": {},
     "output_type": "execute_result"
    }
   ],
   "execution_count": 7
  },
  {
   "metadata": {
    "ExecuteTime": {
     "end_time": "2024-09-16T15:50:36.466766Z",
     "start_time": "2024-09-16T15:50:36.081849Z"
    }
   },
   "cell_type": "code",
   "source": [
    "# Load the GeoJSON data using ST_Read function\n",
    "# geocon.execute(\"DROP TABLE data\")\n",
    "geocon.execute(f\"CREATE TABLE data AS SELECT * FROM ST_Read('{jsonurl}');\")\n",
    "# geocon.execute(f\"INSERT INTO geojson_data (geometry, properties) SELECT ST_Read(geojson), properties FROM '{jsonurl}';\")"
   ],
   "id": "3be6f96f71b79078",
   "outputs": [
    {
     "data": {
      "text/plain": [
       "<duckdb.duckdb.DuckDBPyConnection at 0x7fcce434a030>"
      ]
     },
     "execution_count": 8,
     "metadata": {},
     "output_type": "execute_result"
    }
   ],
   "execution_count": 8
  },
  {
   "metadata": {
    "ExecuteTime": {
     "end_time": "2024-09-16T15:50:40.241975Z",
     "start_time": "2024-09-16T15:50:40.237050Z"
    }
   },
   "cell_type": "code",
   "source": [
    "r1 = geocon.execute(\"DESCRIBE SELECT * FROM data\").fetchdf()\n",
    "print(list(r1['column_name']))"
   ],
   "id": "e1c86ceab9df5706",
   "outputs": [
    {
     "name": "stdout",
     "output_type": "stream",
     "text": [
      "['id', 'name', 'density', 'geom']\n"
     ]
    }
   ],
   "execution_count": 9
  },
  {
   "metadata": {
    "ExecuteTime": {
     "end_time": "2024-09-16T15:50:41.309075Z",
     "start_time": "2024-09-16T15:50:41.301329Z"
    }
   },
   "cell_type": "code",
   "source": [
    "r2 = geocon.execute(\"SELECT * FROM data\").fetchdf()\n",
    "r2.head()"
   ],
   "id": "558a477b05a5240d",
   "outputs": [
    {
     "data": {
      "text/plain": [
       "   id        name  density                                               geom\n",
       "0  01     Alabama   94.650  [2, 4, 0, 0, 0, 0, 0, 0, 54, 241, 176, 194, 65...\n",
       "1  02      Alaska    1.264  [5, 4, 0, 0, 0, 0, 0, 0, 169, 231, 60, 195, 11...\n",
       "2  04     Arizona   57.050  [2, 4, 0, 0, 0, 0, 0, 0, 98, 161, 229, 194, 45...\n",
       "3  05    Arkansas   56.430  [2, 4, 0, 0, 0, 0, 0, 0, 133, 59, 189, 194, 37...\n",
       "4  06  California  241.700  [2, 4, 0, 0, 0, 0, 0, 0, 85, 210, 248, 194, 11..."
      ],
      "text/html": [
       "<div>\n",
       "<style scoped>\n",
       "    .dataframe tbody tr th:only-of-type {\n",
       "        vertical-align: middle;\n",
       "    }\n",
       "\n",
       "    .dataframe tbody tr th {\n",
       "        vertical-align: top;\n",
       "    }\n",
       "\n",
       "    .dataframe thead th {\n",
       "        text-align: right;\n",
       "    }\n",
       "</style>\n",
       "<table border=\"1\" class=\"dataframe\">\n",
       "  <thead>\n",
       "    <tr style=\"text-align: right;\">\n",
       "      <th></th>\n",
       "      <th>id</th>\n",
       "      <th>name</th>\n",
       "      <th>density</th>\n",
       "      <th>geom</th>\n",
       "    </tr>\n",
       "  </thead>\n",
       "  <tbody>\n",
       "    <tr>\n",
       "      <th>0</th>\n",
       "      <td>01</td>\n",
       "      <td>Alabama</td>\n",
       "      <td>94.650</td>\n",
       "      <td>[2, 4, 0, 0, 0, 0, 0, 0, 54, 241, 176, 194, 65...</td>\n",
       "    </tr>\n",
       "    <tr>\n",
       "      <th>1</th>\n",
       "      <td>02</td>\n",
       "      <td>Alaska</td>\n",
       "      <td>1.264</td>\n",
       "      <td>[5, 4, 0, 0, 0, 0, 0, 0, 169, 231, 60, 195, 11...</td>\n",
       "    </tr>\n",
       "    <tr>\n",
       "      <th>2</th>\n",
       "      <td>04</td>\n",
       "      <td>Arizona</td>\n",
       "      <td>57.050</td>\n",
       "      <td>[2, 4, 0, 0, 0, 0, 0, 0, 98, 161, 229, 194, 45...</td>\n",
       "    </tr>\n",
       "    <tr>\n",
       "      <th>3</th>\n",
       "      <td>05</td>\n",
       "      <td>Arkansas</td>\n",
       "      <td>56.430</td>\n",
       "      <td>[2, 4, 0, 0, 0, 0, 0, 0, 133, 59, 189, 194, 37...</td>\n",
       "    </tr>\n",
       "    <tr>\n",
       "      <th>4</th>\n",
       "      <td>06</td>\n",
       "      <td>California</td>\n",
       "      <td>241.700</td>\n",
       "      <td>[2, 4, 0, 0, 0, 0, 0, 0, 85, 210, 248, 194, 11...</td>\n",
       "    </tr>\n",
       "  </tbody>\n",
       "</table>\n",
       "</div>"
      ]
     },
     "execution_count": 10,
     "metadata": {},
     "output_type": "execute_result"
    }
   ],
   "execution_count": 10
  },
  {
   "metadata": {
    "ExecuteTime": {
     "end_time": "2024-09-16T15:50:46.650196Z",
     "start_time": "2024-09-16T15:50:44.479710Z"
    }
   },
   "cell_type": "code",
   "source": [
    "geor2 = geocon.execute(\"SELECT * FROM 'https://github.com/nvkelso/natural-earth-vector/raw/master/110m_physical/ne_110m_land.shp';\").fetchdf()\n",
    "\n",
    "geor2.head(10)"
   ],
   "id": "a7ddc74d1888ce03",
   "outputs": [
    {
     "data": {
      "text/plain": [
       "  featurecla  scalerank  min_zoom  \\\n",
       "0       Land          1       1.0   \n",
       "1       Land          1       1.0   \n",
       "2       Land          1       0.0   \n",
       "3       Land          1       1.0   \n",
       "4       Land          1       1.0   \n",
       "5       Land          1       1.0   \n",
       "6       Land          1       1.0   \n",
       "7       Land          0       0.0   \n",
       "8       Land          0       0.0   \n",
       "9       Land          0       0.5   \n",
       "\n",
       "                                                geom  \n",
       "0  [2, 4, 0, 0, 0, 0, 0, 0, 127, 148, 132, 194, 4...  \n",
       "1  [2, 4, 0, 0, 0, 0, 0, 0, 129, 182, 35, 195, 18...  \n",
       "2  [2, 4, 0, 0, 0, 0, 0, 0, 52, 168, 88, 194, 7, ...  \n",
       "3  [2, 4, 0, 0, 0, 0, 0, 0, 85, 62, 245, 194, 121...  \n",
       "4  [2, 4, 0, 0, 0, 0, 0, 0, 247, 144, 254, 194, 2...  \n",
       "5  [2, 4, 0, 0, 0, 0, 0, 0, 85, 169, 204, 194, 22...  \n",
       "6  [2, 4, 0, 0, 0, 0, 0, 0, 119, 6, 150, 194, 248...  \n",
       "7  [2, 4, 0, 0, 0, 0, 0, 0, 0, 0, 52, 195, 1, 0, ...  \n",
       "8  [2, 4, 0, 0, 0, 0, 0, 0, 56, 83, 149, 194, 132...  \n",
       "9  [2, 4, 0, 0, 0, 0, 0, 0, 205, 204, 116, 194, 5...  "
      ],
      "text/html": [
       "<div>\n",
       "<style scoped>\n",
       "    .dataframe tbody tr th:only-of-type {\n",
       "        vertical-align: middle;\n",
       "    }\n",
       "\n",
       "    .dataframe tbody tr th {\n",
       "        vertical-align: top;\n",
       "    }\n",
       "\n",
       "    .dataframe thead th {\n",
       "        text-align: right;\n",
       "    }\n",
       "</style>\n",
       "<table border=\"1\" class=\"dataframe\">\n",
       "  <thead>\n",
       "    <tr style=\"text-align: right;\">\n",
       "      <th></th>\n",
       "      <th>featurecla</th>\n",
       "      <th>scalerank</th>\n",
       "      <th>min_zoom</th>\n",
       "      <th>geom</th>\n",
       "    </tr>\n",
       "  </thead>\n",
       "  <tbody>\n",
       "    <tr>\n",
       "      <th>0</th>\n",
       "      <td>Land</td>\n",
       "      <td>1</td>\n",
       "      <td>1.0</td>\n",
       "      <td>[2, 4, 0, 0, 0, 0, 0, 0, 127, 148, 132, 194, 4...</td>\n",
       "    </tr>\n",
       "    <tr>\n",
       "      <th>1</th>\n",
       "      <td>Land</td>\n",
       "      <td>1</td>\n",
       "      <td>1.0</td>\n",
       "      <td>[2, 4, 0, 0, 0, 0, 0, 0, 129, 182, 35, 195, 18...</td>\n",
       "    </tr>\n",
       "    <tr>\n",
       "      <th>2</th>\n",
       "      <td>Land</td>\n",
       "      <td>1</td>\n",
       "      <td>0.0</td>\n",
       "      <td>[2, 4, 0, 0, 0, 0, 0, 0, 52, 168, 88, 194, 7, ...</td>\n",
       "    </tr>\n",
       "    <tr>\n",
       "      <th>3</th>\n",
       "      <td>Land</td>\n",
       "      <td>1</td>\n",
       "      <td>1.0</td>\n",
       "      <td>[2, 4, 0, 0, 0, 0, 0, 0, 85, 62, 245, 194, 121...</td>\n",
       "    </tr>\n",
       "    <tr>\n",
       "      <th>4</th>\n",
       "      <td>Land</td>\n",
       "      <td>1</td>\n",
       "      <td>1.0</td>\n",
       "      <td>[2, 4, 0, 0, 0, 0, 0, 0, 247, 144, 254, 194, 2...</td>\n",
       "    </tr>\n",
       "    <tr>\n",
       "      <th>5</th>\n",
       "      <td>Land</td>\n",
       "      <td>1</td>\n",
       "      <td>1.0</td>\n",
       "      <td>[2, 4, 0, 0, 0, 0, 0, 0, 85, 169, 204, 194, 22...</td>\n",
       "    </tr>\n",
       "    <tr>\n",
       "      <th>6</th>\n",
       "      <td>Land</td>\n",
       "      <td>1</td>\n",
       "      <td>1.0</td>\n",
       "      <td>[2, 4, 0, 0, 0, 0, 0, 0, 119, 6, 150, 194, 248...</td>\n",
       "    </tr>\n",
       "    <tr>\n",
       "      <th>7</th>\n",
       "      <td>Land</td>\n",
       "      <td>0</td>\n",
       "      <td>0.0</td>\n",
       "      <td>[2, 4, 0, 0, 0, 0, 0, 0, 0, 0, 52, 195, 1, 0, ...</td>\n",
       "    </tr>\n",
       "    <tr>\n",
       "      <th>8</th>\n",
       "      <td>Land</td>\n",
       "      <td>0</td>\n",
       "      <td>0.0</td>\n",
       "      <td>[2, 4, 0, 0, 0, 0, 0, 0, 56, 83, 149, 194, 132...</td>\n",
       "    </tr>\n",
       "    <tr>\n",
       "      <th>9</th>\n",
       "      <td>Land</td>\n",
       "      <td>0</td>\n",
       "      <td>0.5</td>\n",
       "      <td>[2, 4, 0, 0, 0, 0, 0, 0, 205, 204, 116, 194, 5...</td>\n",
       "    </tr>\n",
       "  </tbody>\n",
       "</table>\n",
       "</div>"
      ]
     },
     "execution_count": 11,
     "metadata": {},
     "output_type": "execute_result"
    }
   ],
   "execution_count": 11
  },
  {
   "metadata": {
    "ExecuteTime": {
     "end_time": "2024-09-16T15:51:32.923991Z",
     "start_time": "2024-09-16T15:51:32.829780Z"
    }
   },
   "cell_type": "code",
   "source": [
    "import duckdb\n",
    "import geopandas as gpd\n",
    "\n",
    "# Load GeoJSON file into a GeoDataFrame\n",
    "gdf = gpd.read_file(jsonurl)"
   ],
   "id": "739d93bbfe93c7c7",
   "outputs": [],
   "execution_count": 13
  },
  {
   "metadata": {
    "ExecuteTime": {
     "end_time": "2024-09-16T15:51:34.309645Z",
     "start_time": "2024-09-16T15:51:34.301088Z"
    }
   },
   "cell_type": "code",
   "source": "gdf.head()",
   "id": "1cc60426a0f34460",
   "outputs": [
    {
     "data": {
      "text/plain": [
       "   id        name  density                                           geometry\n",
       "0  01     Alabama   94.650  POLYGON ((-87.35930 35.00118, -85.60667 34.984...\n",
       "1  02      Alaska    1.264  MULTIPOLYGON (((-131.60202 55.11798, -131.5691...\n",
       "2  04     Arizona   57.050  POLYGON ((-109.04250 37.00026, -109.04798 31.3...\n",
       "3  05    Arkansas   56.430  POLYGON ((-94.47384 36.50186, -90.15254 36.496...\n",
       "4  06  California  241.700  POLYGON ((-123.23326 42.00619, -122.37885 42.0..."
      ],
      "text/html": [
       "<div>\n",
       "<style scoped>\n",
       "    .dataframe tbody tr th:only-of-type {\n",
       "        vertical-align: middle;\n",
       "    }\n",
       "\n",
       "    .dataframe tbody tr th {\n",
       "        vertical-align: top;\n",
       "    }\n",
       "\n",
       "    .dataframe thead th {\n",
       "        text-align: right;\n",
       "    }\n",
       "</style>\n",
       "<table border=\"1\" class=\"dataframe\">\n",
       "  <thead>\n",
       "    <tr style=\"text-align: right;\">\n",
       "      <th></th>\n",
       "      <th>id</th>\n",
       "      <th>name</th>\n",
       "      <th>density</th>\n",
       "      <th>geometry</th>\n",
       "    </tr>\n",
       "  </thead>\n",
       "  <tbody>\n",
       "    <tr>\n",
       "      <th>0</th>\n",
       "      <td>01</td>\n",
       "      <td>Alabama</td>\n",
       "      <td>94.650</td>\n",
       "      <td>POLYGON ((-87.35930 35.00118, -85.60667 34.984...</td>\n",
       "    </tr>\n",
       "    <tr>\n",
       "      <th>1</th>\n",
       "      <td>02</td>\n",
       "      <td>Alaska</td>\n",
       "      <td>1.264</td>\n",
       "      <td>MULTIPOLYGON (((-131.60202 55.11798, -131.5691...</td>\n",
       "    </tr>\n",
       "    <tr>\n",
       "      <th>2</th>\n",
       "      <td>04</td>\n",
       "      <td>Arizona</td>\n",
       "      <td>57.050</td>\n",
       "      <td>POLYGON ((-109.04250 37.00026, -109.04798 31.3...</td>\n",
       "    </tr>\n",
       "    <tr>\n",
       "      <th>3</th>\n",
       "      <td>05</td>\n",
       "      <td>Arkansas</td>\n",
       "      <td>56.430</td>\n",
       "      <td>POLYGON ((-94.47384 36.50186, -90.15254 36.496...</td>\n",
       "    </tr>\n",
       "    <tr>\n",
       "      <th>4</th>\n",
       "      <td>06</td>\n",
       "      <td>California</td>\n",
       "      <td>241.700</td>\n",
       "      <td>POLYGON ((-123.23326 42.00619, -122.37885 42.0...</td>\n",
       "    </tr>\n",
       "  </tbody>\n",
       "</table>\n",
       "</div>"
      ]
     },
     "execution_count": 14,
     "metadata": {},
     "output_type": "execute_result"
    }
   ],
   "execution_count": 14
  },
  {
   "metadata": {
    "ExecuteTime": {
     "end_time": "2024-09-16T15:53:02.758276Z",
     "start_time": "2024-09-16T15:53:02.756447Z"
    }
   },
   "cell_type": "code",
   "source": [
    "# Connect to DuckDB (in-memory or to a file)\n",
    "# conn = duckdb.connect(database=':memory:')\n",
    "\n",
    "# Load GeoDataFrame into DuckDB\n",
    "# geocon.register('geo_table', gdf)\n",
    "\n",
    "# Query the table in DuckDB\n",
    "# result = geocon.execute('SELECT * FROM geo_table').fetchall()\n",
    "\n",
    "# Display the result\n",
    "# for row in result:\n",
    "#     print(row)"
   ],
   "id": "2da1cfcabaa6afd5",
   "outputs": [],
   "execution_count": 16
  },
  {
   "metadata": {},
   "cell_type": "code",
   "outputs": [],
   "execution_count": null,
   "source": "",
   "id": "ee88fcdbdd37b590"
  }
 ],
 "metadata": {
  "kernelspec": {
   "display_name": "Python 3",
   "language": "python",
   "name": "python3"
  },
  "language_info": {
   "codemirror_mode": {
    "name": "ipython",
    "version": 2
   },
   "file_extension": ".py",
   "mimetype": "text/x-python",
   "name": "python",
   "nbconvert_exporter": "python",
   "pygments_lexer": "ipython2",
   "version": "2.7.6"
  }
 },
 "nbformat": 4,
 "nbformat_minor": 5
}
